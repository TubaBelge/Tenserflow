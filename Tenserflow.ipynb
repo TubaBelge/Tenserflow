{
  "nbformat": 4,
  "nbformat_minor": 0,
  "metadata": {
    "colab": {
      "provenance": []
    },
    "kernelspec": {
      "name": "python3",
      "display_name": "Python 3"
    },
    "language_info": {
      "name": "python"
    }
  },
  "cells": [
    {
      "cell_type": "markdown",
      "source": [
        "**Ödev 1**\n"
      ],
      "metadata": {
        "id": "P9IrePkZ6pKU"
      }
    },
    {
      "cell_type": "markdown",
      "source": [
        "**1) Vektör ve Matrisin farkını tek cümle ile ifade ediniz.**\n",
        "\n",
        "Vektör ile matris arasındaki temel fark Vektörün tek bir indise sahip bir sayı dizisi olmasıyken Matris ise satır ve sütun olarak iki indise sahip dikdörtgen bir sayı dizisi olmasıdır. \n"
      ],
      "metadata": {
        "id": "sxGT73b9vFvt"
      }
    },
    {
      "cell_type": "code",
      "source": [
        "# 2) İçerisinde ‘1’ ler olan, veri tipi float olan 10X10’luk bir matris oluşturunuz.\n",
        "\n",
        "import numpy as np\n",
        "import pandas as pd \n",
        "import matplotlib.pyplot as plt\n",
        "%matplotlib inline\n",
        "\n",
        "\n",
        "\n",
        "\n",
        "print(np.ones((10, 10),dtype= float))\n"
      ],
      "metadata": {
        "colab": {
          "base_uri": "https://localhost:8080/"
        },
        "id": "Vr-fnkOcyPAE",
        "outputId": "2909270b-c1b1-424c-8190-7ca16b22e434"
      },
      "execution_count": 74,
      "outputs": [
        {
          "output_type": "stream",
          "name": "stdout",
          "text": [
            "[[1. 1. 1. 1. 1. 1. 1. 1. 1. 1.]\n",
            " [1. 1. 1. 1. 1. 1. 1. 1. 1. 1.]\n",
            " [1. 1. 1. 1. 1. 1. 1. 1. 1. 1.]\n",
            " [1. 1. 1. 1. 1. 1. 1. 1. 1. 1.]\n",
            " [1. 1. 1. 1. 1. 1. 1. 1. 1. 1.]\n",
            " [1. 1. 1. 1. 1. 1. 1. 1. 1. 1.]\n",
            " [1. 1. 1. 1. 1. 1. 1. 1. 1. 1.]\n",
            " [1. 1. 1. 1. 1. 1. 1. 1. 1. 1.]\n",
            " [1. 1. 1. 1. 1. 1. 1. 1. 1. 1.]\n",
            " [1. 1. 1. 1. 1. 1. 1. 1. 1. 1.]]\n"
          ]
        }
      ]
    },
    {
      "cell_type": "code",
      "source": [
        "# 3) İçerisinde ‘9’ lar olan, veri tipi integer olan 10X10’luk bir matris oluşturunuz.\n",
        "\n",
        "print(np.full((10,10), 9,dtype= int))\n"
      ],
      "metadata": {
        "colab": {
          "base_uri": "https://localhost:8080/"
        },
        "id": "Zy8EIMQTyuF4",
        "outputId": "de17d8d3-cbcb-417e-9c40-b8c35379dacd"
      },
      "execution_count": 75,
      "outputs": [
        {
          "output_type": "stream",
          "name": "stdout",
          "text": [
            "[[9 9 9 9 9 9 9 9 9 9]\n",
            " [9 9 9 9 9 9 9 9 9 9]\n",
            " [9 9 9 9 9 9 9 9 9 9]\n",
            " [9 9 9 9 9 9 9 9 9 9]\n",
            " [9 9 9 9 9 9 9 9 9 9]\n",
            " [9 9 9 9 9 9 9 9 9 9]\n",
            " [9 9 9 9 9 9 9 9 9 9]\n",
            " [9 9 9 9 9 9 9 9 9 9]\n",
            " [9 9 9 9 9 9 9 9 9 9]\n",
            " [9 9 9 9 9 9 9 9 9 9]]\n"
          ]
        }
      ]
    },
    {
      "cell_type": "code",
      "source": [
        "# 4) 5 ile 25 arasında, 3’er 3’er atlayan tek boyutlu bir Array oluşturunuz.\n",
        "\n",
        "print(np.arange(5,25,3))\n"
      ],
      "metadata": {
        "colab": {
          "base_uri": "https://localhost:8080/"
        },
        "id": "nZWijwjmzXf2",
        "outputId": "08d7ff87-3ad3-4754-9764-9ae436979270"
      },
      "execution_count": 76,
      "outputs": [
        {
          "output_type": "stream",
          "name": "stdout",
          "text": [
            "[ 5  8 11 14 17 20 23]\n"
          ]
        }
      ]
    },
    {
      "cell_type": "code",
      "source": [
        "# 5) -1 ile 1 arasında 30 adet Array oluşturunuz.\n",
        "print(np.linspace(-1, 1, 30))"
      ],
      "metadata": {
        "colab": {
          "base_uri": "https://localhost:8080/"
        },
        "id": "DmTYoTSYcgU5",
        "outputId": "fcfd8db6-da5b-4e6e-b6c0-3efe4f10d73f"
      },
      "execution_count": 77,
      "outputs": [
        {
          "output_type": "stream",
          "name": "stdout",
          "text": [
            "[-1.         -0.93103448 -0.86206897 -0.79310345 -0.72413793 -0.65517241\n",
            " -0.5862069  -0.51724138 -0.44827586 -0.37931034 -0.31034483 -0.24137931\n",
            " -0.17241379 -0.10344828 -0.03448276  0.03448276  0.10344828  0.17241379\n",
            "  0.24137931  0.31034483  0.37931034  0.44827586  0.51724138  0.5862069\n",
            "  0.65517241  0.72413793  0.79310345  0.86206897  0.93103448  1.        ]\n"
          ]
        }
      ]
    },
    {
      "cell_type": "code",
      "source": [
        "# 6) 0 ile 30 arasında 5x6’lik bir matris oluşturun.\n",
        "\n",
        "\n",
        "print(np.arange(30).reshape(5,6))"
      ],
      "metadata": {
        "colab": {
          "base_uri": "https://localhost:8080/"
        },
        "id": "PyIBnMPdcr1o",
        "outputId": "51b70a81-e14d-4404-f456-e529de82c6c7"
      },
      "execution_count": 78,
      "outputs": [
        {
          "output_type": "stream",
          "name": "stdout",
          "text": [
            "[[ 0  1  2  3  4  5]\n",
            " [ 6  7  8  9 10 11]\n",
            " [12 13 14 15 16 17]\n",
            " [18 19 20 21 22 23]\n",
            " [24 25 26 27 28 29]]\n"
          ]
        }
      ]
    },
    {
      "cell_type": "code",
      "source": [
        "# 7) 0 ile 10 arasındaki değerlerden oluşan 3 adet 4x7’lik bir matris oluşturunuz. (3 boyutlu bir matris oluşturulacak)\n",
        "\n",
        "print(np.random.randint(10, size=(3,4,7)))"
      ],
      "metadata": {
        "colab": {
          "base_uri": "https://localhost:8080/"
        },
        "id": "sMHs8uhPm4zz",
        "outputId": "152190b2-9674-4cab-b542-71c7acb23c13"
      },
      "execution_count": 79,
      "outputs": [
        {
          "output_type": "stream",
          "name": "stdout",
          "text": [
            "[[[1 1 4 9 4 7 9]\n",
            "  [0 6 4 0 6 8 0]\n",
            "  [0 0 9 4 7 0 2]\n",
            "  [4 9 4 2 6 5 3]]\n",
            "\n",
            " [[3 5 1 8 3 8 2]\n",
            "  [7 6 0 8 0 9 1]\n",
            "  [2 5 4 2 6 0 4]\n",
            "  [9 6 1 4 3 4 0]]\n",
            "\n",
            " [[7 2 5 3 5 6 9]\n",
            "  [7 5 3 7 2 9 4]\n",
            "  [3 1 8 5 3 1 6]\n",
            "  [3 4 6 7 7 7 7]]]\n"
          ]
        }
      ]
    },
    {
      "cell_type": "code",
      "source": [
        "# 8) Bir vektör oluşturunuz ve daha sonrasında ayni vektörü bir matrise çeviriniz. (boyut sayesini değiştirin.)\n",
        "\n",
        "print(np.arange(36).reshape(6,6))"
      ],
      "metadata": {
        "colab": {
          "base_uri": "https://localhost:8080/"
        },
        "id": "6PlxVL8j9p9k",
        "outputId": "b0a55034-d379-4406-cb1a-c20846548fc3"
      },
      "execution_count": 80,
      "outputs": [
        {
          "output_type": "stream",
          "name": "stdout",
          "text": [
            "[[ 0  1  2  3  4  5]\n",
            " [ 6  7  8  9 10 11]\n",
            " [12 13 14 15 16 17]\n",
            " [18 19 20 21 22 23]\n",
            " [24 25 26 27 28 29]\n",
            " [30 31 32 33 34 35]]\n"
          ]
        }
      ]
    },
    {
      "cell_type": "code",
      "source": [
        "# 9) 4 tane ayrı tek boyutlu array’i birleştirerek bir array oluşturunuz.\n",
        "\n",
        "dizi1 = np.arange(3,7)\n",
        "dizi2 = np.arange(9,12)\n",
        "dizi3 = np.arange(10,30)\n",
        "dizi4 = np.arange(20,25)\n",
        "print(np.concatenate([dizi1,dizi2,dizi3,dizi4]))"
      ],
      "metadata": {
        "colab": {
          "base_uri": "https://localhost:8080/"
        },
        "id": "0avJz6IY-VzC",
        "outputId": "83caffc3-b393-4357-e843-704e4de9cae8"
      },
      "execution_count": 81,
      "outputs": [
        {
          "output_type": "stream",
          "name": "stdout",
          "text": [
            "[ 3  4  5  6  9 10 11 10 11 12 13 14 15 16 17 18 19 20 21 22 23 24 25 26\n",
            " 27 28 29 20 21 22 23 24]\n"
          ]
        }
      ]
    },
    {
      "cell_type": "code",
      "source": [
        "# 10) “axis=1” ve “axis=0” arasında ne fark vardır. Teorik olarak yazınız?\n",
        "\n",
        "#iki numpy dizinini istenen eksenlerden birleştirir. axis=0 alt alata, axis=1 yan yana\n"
      ],
      "metadata": {
        "id": "gQNN6zHe_RBh"
      },
      "execution_count": 82,
      "outputs": []
    },
    {
      "cell_type": "code",
      "source": [
        "#11) Farklı boyutlardaki arraylari satır ve sütun bazlı ayrı ayrı birleştiriniz.\n",
        "\n",
        "\n",
        "\n",
        "dizi1=np.arange(9).reshape(3,3)\n",
        "dizi2=np.array([[9,10,11],[12,13,14],[15,16,17]])\n",
        "\n",
        "print(np.vstack((dizi1,dizi2)))"
      ],
      "metadata": {
        "colab": {
          "base_uri": "https://localhost:8080/"
        },
        "id": "SAie2BV9aA5M",
        "outputId": "150b7522-f78b-46ec-e3f9-cd46df5f9318"
      },
      "execution_count": 83,
      "outputs": [
        {
          "output_type": "stream",
          "name": "stdout",
          "text": [
            "[[ 0  1  2]\n",
            " [ 3  4  5]\n",
            " [ 6  7  8]\n",
            " [ 9 10 11]\n",
            " [12 13 14]\n",
            " [15 16 17]]\n"
          ]
        }
      ]
    },
    {
      "cell_type": "code",
      "source": [
        "#12) 10 elemanlı bir liste oluşturunuz ve bu listeyi Numpy metotlarıyla bölerek(split) 5 ayrı array\n",
        "\n",
        "\n",
        "a = [1,2,3,4,5,6,7,8,9,10]\n",
        "\n",
        "dizi1,dizi2,dizi3,dizi4,dizi5 = np.split(a, [2,4,6,8])\n",
        "\n",
        "print(dizi1,dizi2,dizi3,dizi4,dizi5)"
      ],
      "metadata": {
        "colab": {
          "base_uri": "https://localhost:8080/"
        },
        "id": "2JUgPd1FiBXy",
        "outputId": "854eb8d8-31fa-43c0-80c9-0be0d6ae514f"
      },
      "execution_count": 84,
      "outputs": [
        {
          "output_type": "stream",
          "name": "stdout",
          "text": [
            "[1 2] [3 4] [5 6] [7 8] [ 9 10]\n"
          ]
        }
      ]
    },
    {
      "cell_type": "code",
      "source": [
        "#13) Random bir array oluşturunuz ve bu arrayi büyükten küçüğe doğru sıralayınız\n",
        "\n",
        "dizi = np.random.randint(500, size=10)\n",
        "\n",
        "dizi_sirali=sorted(dizi,reverse=True)\n",
        "\n",
        "print(\"Random dizi : \",dizi)\n",
        "print(\"büyükten küçüğe doğru Sıralı  dizi : \",dizi_sirali)\n"
      ],
      "metadata": {
        "colab": {
          "base_uri": "https://localhost:8080/"
        },
        "id": "OrKyWA-lidZZ",
        "outputId": "dbddf915-b348-4a5d-ae53-db62d713ab67"
      },
      "execution_count": 85,
      "outputs": [
        {
          "output_type": "stream",
          "name": "stdout",
          "text": [
            "Random dizi :  [ 61 397 386 347 347 452 133 471 344 482]\n",
            "büyükten küçüğe doğru Sıralı  dizi :  [482, 471, 452, 397, 386, 347, 347, 344, 133, 61]\n"
          ]
        }
      ]
    },
    {
      "cell_type": "code",
      "source": [
        "#14) 0 ile 1 arasında 50 elemanlı bir array oluşturunuz ve;\n",
        "#ortalamasını aliniz.\n",
        "#standart sapmasını aliniz.\n",
        "#varyansini aliniz.\n",
        "#median’ini aliniz.\n",
        "#en küçük değeri bulunuz.\n",
        "#en büyük değeri bulunuz.\n",
        "\n",
        "\n",
        "\n",
        "\n",
        "dizi=np.random.rand(1,50)\n",
        "print(\"Ortalama : \" , dizi.mean())\n",
        "print(\"Standart Sapma : \" , dizi.std())\n",
        "print(\"Varyans : \" , dizi.var())\n",
        "print(\"Median : \" , np.median(dizi))\n",
        "print(\"En Küçük Değeri : \" , np.min(dizi))\n",
        "print(\"En Büyük Değeri : \" , np.max(dizi))\n",
        "\n",
        "\n"
      ],
      "metadata": {
        "colab": {
          "base_uri": "https://localhost:8080/"
        },
        "id": "8U3en7tAjFNP",
        "outputId": "aad20adb-4b96-4d7b-ec48-6a651aee1e1e"
      },
      "execution_count": 86,
      "outputs": [
        {
          "output_type": "stream",
          "name": "stdout",
          "text": [
            "Ortalama :  0.4956443100805977\n",
            "Standart Sapma :  0.287223809755645\n",
            "Varyans :  0.08249751689054693\n",
            "Median :  0.48070851084270216\n",
            "En Küçük Değeri :  0.005299541753183812\n",
            "En Büyük Değeri :  0.9303034628709751\n"
          ]
        }
      ]
    },
    {
      "cell_type": "markdown",
      "source": [
        "**Ödev 2** "
      ],
      "metadata": {
        "id": "BHYwtydxjyJG"
      }
    },
    {
      "cell_type": "code",
      "source": [
        "\n",
        "\n",
        "data  = pd.read_csv('athlete_events.csv')\n",
        "print(data.info())\n",
        "\n",
        "\n",
        "\n",
        "\n"
      ],
      "metadata": {
        "colab": {
          "base_uri": "https://localhost:8080/"
        },
        "id": "bjcf8GtXkKhF",
        "outputId": "1af81726-e26a-4a6e-8d21-7d1e22407b9c"
      },
      "execution_count": 87,
      "outputs": [
        {
          "output_type": "stream",
          "name": "stdout",
          "text": [
            "<class 'pandas.core.frame.DataFrame'>\n",
            "RangeIndex: 271116 entries, 0 to 271115\n",
            "Data columns (total 15 columns):\n",
            " #   Column  Non-Null Count   Dtype  \n",
            "---  ------  --------------   -----  \n",
            " 0   ID      271116 non-null  int64  \n",
            " 1   Name    271116 non-null  object \n",
            " 2   Sex     271116 non-null  object \n",
            " 3   Age     261642 non-null  float64\n",
            " 4   Height  210945 non-null  float64\n",
            " 5   Weight  208241 non-null  float64\n",
            " 6   Team    271116 non-null  object \n",
            " 7   NOC     271116 non-null  object \n",
            " 8   Games   271116 non-null  object \n",
            " 9   Year    271116 non-null  int64  \n",
            " 10  Season  271116 non-null  object \n",
            " 11  City    271116 non-null  object \n",
            " 12  Sport   271116 non-null  object \n",
            " 13  Event   271116 non-null  object \n",
            " 14  Medal   39783 non-null   object \n",
            "dtypes: float64(3), int64(2), object(10)\n",
            "memory usage: 31.0+ MB\n",
            "None\n"
          ]
        }
      ]
    },
    {
      "cell_type": "code",
      "source": [
        "#1) Sporcuların, ülkelerin ve etkinliklerin sayısı zaman içinde arttı mı, azaldı mı? Grafik üzerinde gösteriniz\n",
        "\n",
        "sporcular=data.groupby('Year')['ID'].nunique()\n",
        "plt.plot(sporcular, 'g-o')\n",
        "plt.title(\"Yıllara göre sporcuların sayısı\")\n",
        "plt.show()"
      ],
      "metadata": {
        "colab": {
          "base_uri": "https://localhost:8080/",
          "height": 281
        },
        "id": "2My8AzXEpVLi",
        "outputId": "6417b498-afd3-400d-a428-52fed18db719"
      },
      "execution_count": 88,
      "outputs": [
        {
          "output_type": "display_data",
          "data": {
            "text/plain": [
              "<Figure size 432x288 with 1 Axes>"
            ],
            "image/png": "[encoded data removed]"
          },
          "metadata": {
            "needs_background": "light"
          }
        }
      ]
    },
    {
      "cell_type": "code",
      "source": [
        "Ulkeler=data.groupby('Year')['Team'].nunique()\n",
        "plt.plot(Ulkeler, 'g-o')\n",
        "plt.title(\"Yıllara göre ülkelerin sayısı\")\n",
        "plt.show()"
      ],
      "metadata": {
        "id": "MDVFXBlFQuz8",
        "colab": {
          "base_uri": "https://localhost:8080/",
          "height": 281
        },
        "outputId": "50e8d174-2d9c-43d2-d356-d59b43686014"
      },
      "execution_count": 89,
      "outputs": [
        {
          "output_type": "display_data",
          "data": {
            "text/plain": [
              "<Figure size 432x288 with 1 Axes>"
            ],
            "image/png": "[encoded data removed]"
          },
          "metadata": {
            "needs_background": "light"
          }
        }
      ]
    },
    {
      "cell_type": "code",
      "source": [
        "Ulkeler=data.groupby('Year')['Event'].nunique()\n",
        "plt.plot(Ulkeler, 'g-o')\n",
        "plt.title(\"Yıllara göre Etkinliklerin sayısı\")\n",
        "plt.show()"
      ],
      "metadata": {
        "colab": {
          "base_uri": "https://localhost:8080/",
          "height": 281
        },
        "id": "NeWnSSQIRyEq",
        "outputId": "75a8bba1-ce05-475d-8480-25d27ebbd9cf"
      },
      "execution_count": 90,
      "outputs": [
        {
          "output_type": "display_data",
          "data": {
            "text/plain": [
              "<Figure size 432x288 with 1 Axes>"
            ],
            "image/png": "[encoded data removed]"
          },
          "metadata": {
            "needs_background": "light"
          }
        }
      ]
    },
    {
      "cell_type": "code",
      "source": [
        "#2) ilk 30 ülkenin aldığı altın, gümüş ve bronz madalyaların oranını görselleştirin\n",
        "\n",
        "\n",
        "#Gold madalyaların sayısı\n",
        "import seaborn as sns\n",
        "\n",
        "\n",
        "\n",
        "\n",
        "team_list = data[ (data.Medal=='Gold')].Team\n",
        "\n",
        "sns.barplot(x=team_list.value_counts().head(30), y=team_list.value_counts().head(30).index)\n",
        "\n",
        "\n",
        "plt.ylabel(None);\n",
        "plt.xlabel('Gold madalyaların oranı ');\n",
        "\n",
        "\n"
      ],
      "metadata": {
        "colab": {
          "base_uri": "https://localhost:8080/",
          "height": 280
        },
        "id": "aMft6AQNR-Gh",
        "outputId": "f5e8bfa9-49b7-4193-a8dd-6ed5e5b4f2f4"
      },
      "execution_count": 91,
      "outputs": [
        {
          "output_type": "display_data",
          "data": {
            "text/plain": [
              "<Figure size 432x288 with 1 Axes>"
            ],
            "image/png": "[encoded data removed]"
          },
          "metadata": {
            "needs_background": "light"
          }
        }
      ]
    },
    {
      "cell_type": "code",
      "source": [
        "#Gold madalyaların sayısı\n",
        "import seaborn as sns\n",
        "\n",
        "\n",
        "\n",
        "\n",
        "\n",
        "\n",
        "team_list = data[ (data.Medal=='Silver')].Team\n",
        "\n",
        "sns.barplot(x=team_list.value_counts().head(30), y=team_list.value_counts().head(30).index)\n",
        "\n",
        "\n",
        "plt.ylabel(None);\n",
        "plt.xlabel('Gümüş madalyaların oranı ');"
      ],
      "metadata": {
        "colab": {
          "base_uri": "https://localhost:8080/",
          "height": 280
        },
        "id": "OmOEMxVpXs7N",
        "outputId": "1165ef3d-1d84-4b6b-a1c6-889e13e0d834"
      },
      "execution_count": 92,
      "outputs": [
        {
          "output_type": "display_data",
          "data": {
            "text/plain": [
              "<Figure size 432x288 with 1 Axes>"
            ],
            "image/png": "[encoded data removed]"
          },
          "metadata": {
            "needs_background": "light"
          }
        }
      ]
    },
    {
      "cell_type": "code",
      "source": [
        "\n",
        "team_list = data[ (data.Medal=='Bronze')].Team\n",
        "\n",
        "sns.barplot(x=team_list.value_counts().head(30), y=team_list.value_counts().head(30).index)\n",
        "\n",
        "\n",
        "plt.ylabel(None);\n",
        "plt.xlabel('Bronz madalyaların oranı ');"
      ],
      "metadata": {
        "colab": {
          "base_uri": "https://localhost:8080/",
          "height": 280
        },
        "id": "OIK-AbJDX917",
        "outputId": "12d865ca-b3b9-4fe7-bd36-b4716a6c5178"
      },
      "execution_count": 93,
      "outputs": [
        {
          "output_type": "display_data",
          "data": {
            "text/plain": [
              "<Figure size 432x288 with 1 Axes>"
            ],
            "image/png": "[encoded data removed]"
          },
          "metadata": {
            "needs_background": "light"
          }
        }
      ]
    },
    {
      "cell_type": "code",
      "source": [
        "#4) Erkek ve kadın sporcuların zaman içinde katılımını görselleştiriniz.\n",
        "\n",
        "#kadın katılımcıların sayısı\n",
        "\n",
        "female_participants = data[(data.Sex=='F')]\n",
        "female_participants = female_participants.groupby('Year').count().reset_index()\n",
        "female_participants.head()\n",
        "\n",
        "sns.set_style('darkgrid')\n",
        "\n",
        "\n",
        "\n",
        "\n",
        "sns.lineplot(\n",
        "    data=female_participants, x=\"Year\", y=\"Sex\",  err_style=\"bars\", ci=68\n",
        ");"
      ],
      "metadata": {
        "colab": {
          "base_uri": "https://localhost:8080/",
          "height": 279
        },
        "id": "QFp0J3W0YM1a",
        "outputId": "7876009d-5971-4227-9693-d9e6cb6ae144"
      },
      "execution_count": 94,
      "outputs": [
        {
          "output_type": "display_data",
          "data": {
            "text/plain": [
              "<Figure size 432x288 with 1 Axes>"
            ],
            "image/png": "[encoded data removed]"
          },
          "metadata": {}
        }
      ]
    },
    {
      "cell_type": "code",
      "source": [
        "#Erkek katılımcıların sayısı\n",
        "\n",
        "male_participants = data[(data.Sex=='M')]\n",
        "male_participants = male_participants.groupby('Year').count().reset_index()\n",
        "male_participants.head()\n",
        "\n",
        "sns.set_style('darkgrid')\n",
        "\n",
        "\n",
        "sns.lineplot(\n",
        "    data=male_participants, x=\"Year\", y=\"Sex\",  err_style=\"bars\", ci=68\n",
        "    );"
      ],
      "metadata": {
        "colab": {
          "base_uri": "https://localhost:8080/",
          "height": 279
        },
        "id": "R3w4MmJuY02b",
        "outputId": "2ab16415-5bf2-40ac-88c5-11af49e20af9"
      },
      "execution_count": 95,
      "outputs": [
        {
          "output_type": "display_data",
          "data": {
            "text/plain": [
              "<Figure size 432x288 with 1 Axes>"
            ],
            "image/png": "[encoded data removed]"
          },
          "metadata": {}
        }
      ]
    },
    {
      "cell_type": "markdown",
      "source": [
        "**Ödev 3.**\n"
      ],
      "metadata": {
        "id": "iBGCMLbn6s47"
      }
    },
    {
      "cell_type": "markdown",
      "source": [
        "UCI Machine Learning Repository: Adult Data Set sitesinden Yetişkin Gelir Veri Kümesini indiriniz. Bu veri \n",
        "setine göre"
      ],
      "metadata": {
        "id": "O1iStG1e6yIL"
      }
    },
    {
      "cell_type": "code",
      "source": [
        "#a) Verileri analiz ederek eksik verileri tamamlayınız.\n",
        "features = [\"Age\", \"Workclass\", \"fnlwgt\", \"Education\", \"Education-Num\", \"Martial Status\",\n",
        "        \"Occupation\", \"Relationship\", \"Race\", \"Sex\", \"Capital Gain\", \"Capital Loss\",\n",
        "        \"Hours per week\", \"Country\", \"Target\"] \n",
        "        \n",
        "        \n",
        "data  = pd.read_csv('AdultData.csv',names=features)\n",
        "\n",
        "data[data == ' ?'] = np.nan\n",
        "\n",
        "\n",
        "data_yedek=data\n",
        "data.isnull().sum()\n"
      ],
      "metadata": {
        "colab": {
          "base_uri": "https://localhost:8080/"
        },
        "id": "YkFvqHhb60RK",
        "outputId": "a666c728-b056-4089-9268-a1400a3fe038"
      },
      "execution_count": 96,
      "outputs": [
        {
          "output_type": "execute_result",
          "data": {
            "text/plain": [
              "Age                  0\n",
              "Workclass         1836\n",
              "fnlwgt               0\n",
              "Education            0\n",
              "Education-Num        0\n",
              "Martial Status       0\n",
              "Occupation        1843\n",
              "Relationship         0\n",
              "Race                 0\n",
              "Sex                  0\n",
              "Capital Gain         0\n",
              "Capital Loss         0\n",
              "Hours per week       0\n",
              "Country            583\n",
              "Target               0\n",
              "dtype: int64"
            ]
          },
          "metadata": {},
          "execution_count": 96
        }
      ]
    },
    {
      "cell_type": "code",
      "source": [
        "#Tepe değer(mode) kullanılarak eksik verileri tamamladık\n",
        "\n",
        "data.Workclass.fillna(data.Workclass.mode()[0],inplace = True)\n",
        "\n",
        "data.Occupation.fillna(data.Occupation.mode()[0],inplace = True)\n",
        "\n",
        "data[\"Country\"].fillna(data[\"Country\"].mode()[0],inplace = True)\n",
        "data.isnull().sum()\n",
        "\n"
      ],
      "metadata": {
        "colab": {
          "base_uri": "https://localhost:8080/"
        },
        "id": "BlSwVNDBP4pd",
        "outputId": "35cdf79e-f640-4f0b-e051-55a3c69c9feb"
      },
      "execution_count": 97,
      "outputs": [
        {
          "output_type": "execute_result",
          "data": {
            "text/plain": [
              "Age               0\n",
              "Workclass         0\n",
              "fnlwgt            0\n",
              "Education         0\n",
              "Education-Num     0\n",
              "Martial Status    0\n",
              "Occupation        0\n",
              "Relationship      0\n",
              "Race              0\n",
              "Sex               0\n",
              "Capital Gain      0\n",
              "Capital Loss      0\n",
              "Hours per week    0\n",
              "Country           0\n",
              "Target            0\n",
              "dtype: int64"
            ]
          },
          "metadata": {},
          "execution_count": 97
        }
      ]
    },
    {
      "cell_type": "code",
      "source": [
        "#b) Sütunlar arasında ki korelasyon analizine bakınız\n",
        "\n",
        "data.corr()"
      ],
      "metadata": {
        "colab": {
          "base_uri": "https://localhost:8080/",
          "height": 238
        },
        "id": "dt4ajrIMQ67i",
        "outputId": "b5137738-4f2f-4e8c-ae6c-e917bcb01b88"
      },
      "execution_count": 98,
      "outputs": [
        {
          "output_type": "execute_result",
          "data": {
            "text/plain": [
              "                     Age    fnlwgt  Education-Num  Capital Gain  Capital Loss  \\\n",
              "Age             1.000000 -0.076646       0.036527      0.077674      0.057775   \n",
              "fnlwgt         -0.076646  1.000000      -0.043195      0.000432     -0.010252   \n",
              "Education-Num   0.036527 -0.043195       1.000000      0.122630      0.079923   \n",
              "Capital Gain    0.077674  0.000432       0.122630      1.000000     -0.031615   \n",
              "Capital Loss    0.057775 -0.010252       0.079923     -0.031615      1.000000   \n",
              "Hours per week  0.068756 -0.018768       0.148123      0.078409      0.054256   \n",
              "\n",
              "                Hours per week  \n",
              "Age                   0.068756  \n",
              "fnlwgt               -0.018768  \n",
              "Education-Num         0.148123  \n",
              "Capital Gain          0.078409  \n",
              "Capital Loss          0.054256  \n",
              "Hours per week        1.000000  "
            ],
            "text/html": [
              "\n",
              "  <div id=\"df-0f847404-7ab1-463c-9958-5c7ad190d8ce\">\n",
              "    <div class=\"colab-df-container\">\n",
              "      <div>\n",
              "<style scoped>\n",
              "    .dataframe tbody tr th:only-of-type {\n",
              "        vertical-align: middle;\n",
              "    }\n",
              "\n",
              "    .dataframe tbody tr th {\n",
              "        vertical-align: top;\n",
              "    }\n",
              "\n",
              "    .dataframe thead th {\n",
              "        text-align: right;\n",
              "    }\n",
              "</style>\n",
              "<table border=\"1\" class=\"dataframe\">\n",
              "  <thead>\n",
              "    <tr style=\"text-align: right;\">\n",
              "      <th></th>\n",
              "      <th>Age</th>\n",
              "      <th>fnlwgt</th>\n",
              "      <th>Education-Num</th>\n",
              "      <th>Capital Gain</th>\n",
              "      <th>Capital Loss</th>\n",
              "      <th>Hours per week</th>\n",
              "    </tr>\n",
              "  </thead>\n",
              "  <tbody>\n",
              "    <tr>\n",
              "      <th>Age</th>\n",
              "      <td>1.000000</td>\n",
              "      <td>-0.076646</td>\n",
              "      <td>0.036527</td>\n",
              "      <td>0.077674</td>\n",
              "      <td>0.057775</td>\n",
              "      <td>0.068756</td>\n",
              "    </tr>\n",
              "    <tr>\n",
              "      <th>fnlwgt</th>\n",
              "      <td>-0.076646</td>\n",
              "      <td>1.000000</td>\n",
              "      <td>-0.043195</td>\n",
              "      <td>0.000432</td>\n",
              "      <td>-0.010252</td>\n",
              "      <td>-0.018768</td>\n",
              "    </tr>\n",
              "    <tr>\n",
              "      <th>Education-Num</th>\n",
              "      <td>0.036527</td>\n",
              "      <td>-0.043195</td>\n",
              "      <td>1.000000</td>\n",
              "      <td>0.122630</td>\n",
              "      <td>0.079923</td>\n",
              "      <td>0.148123</td>\n",
              "    </tr>\n",
              "    <tr>\n",
              "      <th>Capital Gain</th>\n",
              "      <td>0.077674</td>\n",
              "      <td>0.000432</td>\n",
              "      <td>0.122630</td>\n",
              "      <td>1.000000</td>\n",
              "      <td>-0.031615</td>\n",
              "      <td>0.078409</td>\n",
              "    </tr>\n",
              "    <tr>\n",
              "      <th>Capital Loss</th>\n",
              "      <td>0.057775</td>\n",
              "      <td>-0.010252</td>\n",
              "      <td>0.079923</td>\n",
              "      <td>-0.031615</td>\n",
              "      <td>1.000000</td>\n",
              "      <td>0.054256</td>\n",
              "    </tr>\n",
              "    <tr>\n",
              "      <th>Hours per week</th>\n",
              "      <td>0.068756</td>\n",
              "      <td>-0.018768</td>\n",
              "      <td>0.148123</td>\n",
              "      <td>0.078409</td>\n",
              "      <td>0.054256</td>\n",
              "      <td>1.000000</td>\n",
              "    </tr>\n",
              "  </tbody>\n",
              "</table>\n",
              "</div>\n",
              "      <button class=\"colab-df-convert\" onclick=\"convertToInteractive('df-0f847404-7ab1-463c-9958-5c7ad190d8ce')\"\n",
              "              title=\"Convert this dataframe to an interactive table.\"\n",
              "              style=\"display:none;\">\n",
              "        \n",
              "  <svg xmlns=\"http://www.w3.org/2000/svg\" height=\"24px\"viewBox=\"0 0 24 24\"\n",
              "       width=\"24px\">\n",
              "    <path d=\"M0 0h24v24H0V0z\" fill=\"none\"/>\n",
              "    <path d=\"M18.56 5.44l.94 2.06.94-2.06 2.06-.94-2.06-.94-.94-2.06-.94 2.06-2.06.94zm-11 1L8.5 8.5l.94-2.06 2.06-.94-2.06-.94L8.5 2.5l-.94 2.06-2.06.94zm10 10l.94 2.06.94-2.06 2.06-.94-2.06-.94-.94-2.06-.94 2.06-2.06.94z\"/><path d=\"M17.41 7.96l-1.37-1.37c-.4-.4-.92-.59-1.43-.59-.52 0-1.04.2-1.43.59L10.3 9.45l-7.72 7.72c-.78.78-.78 2.05 0 2.83L4 21.41c.39.39.9.59 1.41.59.51 0 1.02-.2 1.41-.59l7.78-7.78 2.81-2.81c.8-.78.8-2.07 0-2.86zM5.41 20L4 18.59l7.72-7.72 1.47 1.35L5.41 20z\"/>\n",
              "  </svg>\n",
              "      </button>\n",
              "      \n",
              "  <style>\n",
              "    .colab-df-container {\n",
              "      display:flex;\n",
              "      flex-wrap:wrap;\n",
              "      gap: 12px;\n",
              "    }\n",
              "\n",
              "    .colab-df-convert {\n",
              "      background-color: #E8F0FE;\n",
              "      border: none;\n",
              "      border-radius: 50%;\n",
              "      cursor: pointer;\n",
              "      display: none;\n",
              "      fill: #1967D2;\n",
              "      height: 32px;\n",
              "      padding: 0 0 0 0;\n",
              "      width: 32px;\n",
              "    }\n",
              "\n",
              "    .colab-df-convert:hover {\n",
              "      background-color: #E2EBFA;\n",
              "      box-shadow: 0px 1px 2px rgba(60, 64, 67, 0.3), 0px 1px 3px 1px rgba(60, 64, 67, 0.15);\n",
              "      fill: #174EA6;\n",
              "    }\n",
              "\n",
              "    [theme=dark] .colab-df-convert {\n",
              "      background-color: #3B4455;\n",
              "      fill: #D2E3FC;\n",
              "    }\n",
              "\n",
              "    [theme=dark] .colab-df-convert:hover {\n",
              "      background-color: #434B5C;\n",
              "      box-shadow: 0px 1px 3px 1px rgba(0, 0, 0, 0.15);\n",
              "      filter: drop-shadow(0px 1px 2px rgba(0, 0, 0, 0.3));\n",
              "      fill: #FFFFFF;\n",
              "    }\n",
              "  </style>\n",
              "\n",
              "      <script>\n",
              "        const buttonEl =\n",
              "          document.querySelector('#df-0f847404-7ab1-463c-9958-5c7ad190d8ce button.colab-df-convert');\n",
              "        buttonEl.style.display =\n",
              "          google.colab.kernel.accessAllowed ? 'block' : 'none';\n",
              "\n",
              "        async function convertToInteractive(key) {\n",
              "          const element = document.querySelector('#df-0f847404-7ab1-463c-9958-5c7ad190d8ce');\n",
              "          const dataTable =\n",
              "            await google.colab.kernel.invokeFunction('convertToInteractive',\n",
              "                                                     [key], {});\n",
              "          if (!dataTable) return;\n",
              "\n",
              "          const docLinkHtml = 'Like what you see? Visit the ' +\n",
              "            '<a target=\"_blank\" href=https://colab.research.google.com/notebooks/data_table.ipynb>data table notebook</a>'\n",
              "            + ' to learn more about interactive tables.';\n",
              "          element.innerHTML = '';\n",
              "          dataTable['output_type'] = 'display_data';\n",
              "          await google.colab.output.renderOutput(dataTable, element);\n",
              "          const docLink = document.createElement('div');\n",
              "          docLink.innerHTML = docLinkHtml;\n",
              "          element.appendChild(docLink);\n",
              "        }\n",
              "      </script>\n",
              "    </div>\n",
              "  </div>\n",
              "  "
            ]
          },
          "metadata": {},
          "execution_count": 98
        }
      ]
    },
    {
      "cell_type": "code",
      "source": [
        "#c. Workclaass sütununa göre gruplandırarak bu verilerin ortalamasını, toplamını vb bilgiler vererek, eksik veriler var ise doldurunuz.\n",
        "\n",
        "\n",
        "print(data.groupby(\"Workclass\").sum())\n",
        "print(data.groupby(\"Workclass\").std())\n",
        "print(data.groupby(\"Workclass\").mean())"
      ],
      "metadata": {
        "colab": {
          "base_uri": "https://localhost:8080/"
        },
        "id": "UiPg2zVcRFj7",
        "outputId": "a4a90bd0-ede4-4fa0-ccf3-582015e6c800"
      },
      "execution_count": 99,
      "outputs": [
        {
          "output_type": "stream",
          "name": "stdout",
          "text": [
            "                      Age      fnlwgt  Education-Num  Capital Gain  \\\n",
            "Workclass                                                            \n",
            " Federal-gov        40887   177812394          10535        799903   \n",
            " Local-gov          87385   394822919          23111       1842264   \n",
            " Never-worked         144     1581927             52             0   \n",
            " Private           910361  4721090345         241232      21295764   \n",
            " Self-emp-inc       51355   196395180          12429       5441274   \n",
            " Self-emp-not-inc  114268   446221558          25985       4792483   \n",
            " State-gov          51188   239009324          14766        910806   \n",
            " Without-pay          669     2439745            127          6830   \n",
            "\n",
            "                   Capital Loss  Hours per week  \n",
            "Workclass                                        \n",
            " Federal-gov             107778           39724  \n",
            " Local-gov               229925           85777  \n",
            " Never-worked                 0             199  \n",
            " Private                1927434          972506  \n",
            " Self-emp-inc            173135           54481  \n",
            " Self-emp-not-inc        296361          112876  \n",
            " State-gov               108067           50663  \n",
            " Without-pay                  0             458  \n",
            "                         Age         fnlwgt  Education-Num  Capital Gain  \\\n",
            "Workclass                                                                  \n",
            " Federal-gov       11.509171  117502.359524       2.113650   4101.966767   \n",
            " Local-gov         12.272856  100254.775314       2.552536   5775.043442   \n",
            " Never-worked       4.613644  108135.748347       2.299068      0.000000   \n",
            " Private           13.578124  105891.227830       2.508871   6337.960297   \n",
            " Self-emp-inc      12.553194   96436.282913       2.603210  17976.548086   \n",
            " Self-emp-not-inc  13.338162  100735.757730       2.768132  10986.233506   \n",
            " State-gov         12.431065  111512.980926       2.538604   3777.749185   \n",
            " Without-pay       21.075610   85536.385921       1.685426   1300.780467   \n",
            "\n",
            "                   Capital Loss  Hours per week  \n",
            "Workclass                                        \n",
            " Federal-gov         453.504623        8.838605  \n",
            " Local-gov           439.513203       10.771559  \n",
            " Never-worked          0.000000       15.186147  \n",
            " Private             382.056805       11.776055  \n",
            " Self-emp-inc        549.488497       13.900417  \n",
            " Self-emp-not-inc    467.611687       16.674958  \n",
            " State-gov           394.469789       11.697014  \n",
            " Without-pay           0.000000       17.357900  \n",
            "                         Age         fnlwgt  Education-Num  Capital Gain  \\\n",
            "Workclass                                                                  \n",
            " Federal-gov       42.590625  185221.243750      10.973958    833.232292   \n",
            " Local-gov         41.751075  188639.712852      11.042045    880.202580   \n",
            " Never-worked      20.571429  225989.571429       7.428571      0.000000   \n",
            " Private           37.109123  192446.206791       9.833361    868.081037   \n",
            " Self-emp-inc      46.017025  175981.344086      11.137097   4875.693548   \n",
            " Self-emp-not-inc  44.969697  175608.641480      10.226289   1886.061787   \n",
            " State-gov         39.436055  184136.613251      11.375963    701.699538   \n",
            " Without-pay       47.785714  174267.500000       9.071429    487.857143   \n",
            "\n",
            "                   Capital Loss  Hours per week  \n",
            "Workclass                                        \n",
            " Federal-gov         112.268750       41.379167  \n",
            " Local-gov           109.854276       40.982800  \n",
            " Never-worked          0.000000       28.428571  \n",
            " Private              78.568156       39.642345  \n",
            " Self-emp-inc        155.138889       48.818100  \n",
            " Self-emp-not-inc    116.631641       44.421881  \n",
            " State-gov            83.256549       39.031587  \n",
            " Without-pay           0.000000       32.714286  \n"
          ]
        }
      ]
    },
    {
      "cell_type": "code",
      "source": [
        "#d. Eksik verileri doldurma yöntemi için en az 3 farklı yöntem araştırarak bu yöntemleri uygulayıp sonuçları gözlemleyiniz.\n",
        "\n",
        "\n",
        "\n",
        "#1- Tepe değer(mode) kullanılarak en fazla frekansa sahip olan değer ile eksik veriler doldurduk.\n",
        "\n",
        "data=data_yedek\n",
        "\n",
        "data.Workclass.fillna(data.Workclass.mode()[0],inplace = True)\n",
        "\n",
        "data.Occupation.fillna(data.Occupation.mode()[0],inplace = True)\n",
        "\n",
        "data[\"Country\"].fillna(data[\"Country\"].mode()[0],inplace = True)\n",
        "data.isnull().sum()"
      ],
      "metadata": {
        "colab": {
          "base_uri": "https://localhost:8080/"
        },
        "id": "-OCBKp9OSfdh",
        "outputId": "e44cd0ff-1a12-494d-ac5a-3adf39fcaadc"
      },
      "execution_count": 100,
      "outputs": [
        {
          "output_type": "execute_result",
          "data": {
            "text/plain": [
              "Age               0\n",
              "Workclass         0\n",
              "fnlwgt            0\n",
              "Education         0\n",
              "Education-Num     0\n",
              "Martial Status    0\n",
              "Occupation        0\n",
              "Relationship      0\n",
              "Race              0\n",
              "Sex               0\n",
              "Capital Gain      0\n",
              "Capital Loss      0\n",
              "Hours per week    0\n",
              "Country           0\n",
              "Target            0\n",
              "dtype: int64"
            ]
          },
          "metadata": {},
          "execution_count": 100
        }
      ]
    },
    {
      "cell_type": "code",
      "source": [
        "#2  eksik değerleri öznitelikler içerisinden rastgele seçtiğim değerlerle tamamlamak \n",
        "# öncelikle öznitelikler içerisinden rasgele değer seçerken NaN değere denk gelmemek için NaN değerleri  temizledik\n",
        "\n",
        "data=data_yedek\n",
        "\n",
        "notNullColumn_NativeCountry=data[data['Country'].notnull()]['Country']\n",
        "notNullColumn_Occupation=data[data['Occupation'].notnull()]['Occupation']\n",
        "notNullColumn_Workclass=data[data['Workclass'].notnull()]['Workclass']\n",
        " \n",
        "# bu eksik değer içermeyen kolonlar içerisinden rastgele seçtiğim değerleri eksik değerlerin yerine atıyorum \n",
        "# bu atama işlemi için lambda fonksiyonu yazıyorum\n",
        "data['Country']=data['Country'].apply(lambda x: notNullColumn_NativeCountry.sample(1) if pd.isnull(x) else x)\n",
        "data.loc[:, 'Occupation']=data.Occupation.apply(lambda x: notNullColumn_Occupation.sample(1) if pd.isnull(x) else x)\n",
        "data.loc[:, 'Workclass']=data.loc[:,'Workclass'].apply(lambda x: notNullColumn_Workclass.sample(1) if pd.isnull(x) else x)\n",
        " \n",
        "# sonuç çıktısında da görüleceği üzere bütün eksik değerleri tamamlamış olduk \n",
        "print(np.sum(data.isna()))"
      ],
      "metadata": {
        "colab": {
          "base_uri": "https://localhost:8080/"
        },
        "id": "YwkaZ4K6UEBT",
        "outputId": "021cfc00-336d-4671-a875-2ec0efc41c81"
      },
      "execution_count": 101,
      "outputs": [
        {
          "output_type": "stream",
          "name": "stdout",
          "text": [
            "Age               0\n",
            "Workclass         0\n",
            "fnlwgt            0\n",
            "Education         0\n",
            "Education-Num     0\n",
            "Martial Status    0\n",
            "Occupation        0\n",
            "Relationship      0\n",
            "Race              0\n",
            "Sex               0\n",
            "Capital Gain      0\n",
            "Capital Loss      0\n",
            "Hours per week    0\n",
            "Country           0\n",
            "Target            0\n",
            "dtype: int64\n"
          ]
        }
      ]
    },
    {
      "cell_type": "code",
      "source": [
        "# 3)bfill Kullanarak Tamamlanmamış Satırları Değerlerle Doldurma,DataFrame’deki her noksan satırı, altındaki en yakın değerle doldurur.\n",
        "\n",
        "data=data_yedek\n",
        "\n",
        "data.fillna(method='bfill', inplace=True)\n",
        "\n",
        "# sonuç çıktısında da görüleceği üzere bütün eksik değerleri tamamlamış olduk \n",
        "print(np.sum(data.isna()))"
      ],
      "metadata": {
        "colab": {
          "base_uri": "https://localhost:8080/"
        },
        "id": "JyDuEgaHVNdK",
        "outputId": "79e45c51-ba11-438e-f33d-bdd3730bb923"
      },
      "execution_count": 105,
      "outputs": [
        {
          "output_type": "stream",
          "name": "stdout",
          "text": [
            "Age               0\n",
            "Workclass         0\n",
            "fnlwgt            0\n",
            "Education         0\n",
            "Education-Num     0\n",
            "Martial Status    0\n",
            "Occupation        0\n",
            "Relationship      0\n",
            "Race              0\n",
            "Sex               0\n",
            "Capital Gain      0\n",
            "Capital Loss      0\n",
            "Hours per week    0\n",
            "Country           0\n",
            "Target            0\n",
            "dtype: int64\n"
          ]
        }
      ]
    }
  ]
}